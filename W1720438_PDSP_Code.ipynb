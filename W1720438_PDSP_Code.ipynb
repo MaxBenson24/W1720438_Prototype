{
 "cells": [
  {
   "cell_type": "markdown",
   "id": "f54275fb",
   "metadata": {},
   "source": [
    "# Prototype code \n"
   ]
  },
  {
   "cell_type": "code",
   "execution_count": 2,
   "id": "12cdf694",
   "metadata": {
    "collapsed": true
   },
   "outputs": [
    {
     "name": "stdout",
     "output_type": "stream",
     "text": [
      "Requirement already satisfied: numpy in ./anaconda3/lib/python3.11/site-packages (1.24.3)\n",
      "Requirement already satisfied: Pillow in ./anaconda3/lib/python3.11/site-packages (9.4.0)\n",
      "Requirement already satisfied: ripser in ./anaconda3/lib/python3.11/site-packages (0.6.5)\n",
      "Requirement already satisfied: persim in ./anaconda3/lib/python3.11/site-packages (0.3.2)\n",
      "Requirement already satisfied: Cython in ./anaconda3/lib/python3.11/site-packages (from ripser) (3.0.8)\n",
      "Requirement already satisfied: scipy in ./anaconda3/lib/python3.11/site-packages (from ripser) (1.11.1)\n",
      "Requirement already satisfied: scikit-learn in ./anaconda3/lib/python3.11/site-packages (from ripser) (1.3.0)\n",
      "Requirement already satisfied: matplotlib in ./anaconda3/lib/python3.11/site-packages (from persim) (3.7.2)\n",
      "Requirement already satisfied: hopcroftkarp in ./anaconda3/lib/python3.11/site-packages (from persim) (1.2.5)\n",
      "Requirement already satisfied: deprecated in ./anaconda3/lib/python3.11/site-packages (from persim) (1.2.14)\n",
      "Requirement already satisfied: joblib in ./anaconda3/lib/python3.11/site-packages (from persim) (1.2.0)\n",
      "Requirement already satisfied: wrapt<2,>=1.10 in ./anaconda3/lib/python3.11/site-packages (from deprecated->persim) (1.14.1)\n",
      "Requirement already satisfied: contourpy>=1.0.1 in ./anaconda3/lib/python3.11/site-packages (from matplotlib->persim) (1.0.5)\n",
      "Requirement already satisfied: cycler>=0.10 in ./anaconda3/lib/python3.11/site-packages (from matplotlib->persim) (0.11.0)\n",
      "Requirement already satisfied: fonttools>=4.22.0 in ./anaconda3/lib/python3.11/site-packages (from matplotlib->persim) (4.25.0)\n",
      "Requirement already satisfied: kiwisolver>=1.0.1 in ./anaconda3/lib/python3.11/site-packages (from matplotlib->persim) (1.4.4)\n",
      "Requirement already satisfied: packaging>=20.0 in ./anaconda3/lib/python3.11/site-packages (from matplotlib->persim) (23.1)\n",
      "Requirement already satisfied: pyparsing<3.1,>=2.3.1 in ./anaconda3/lib/python3.11/site-packages (from matplotlib->persim) (3.0.9)\n",
      "Requirement already satisfied: python-dateutil>=2.7 in ./anaconda3/lib/python3.11/site-packages (from matplotlib->persim) (2.8.2)\n",
      "Requirement already satisfied: threadpoolctl>=2.0.0 in ./anaconda3/lib/python3.11/site-packages (from scikit-learn->ripser) (2.2.0)\n",
      "Requirement already satisfied: six>=1.5 in ./anaconda3/lib/python3.11/site-packages (from python-dateutil>=2.7->matplotlib->persim) (1.16.0)\n",
      "Note: you may need to restart the kernel to use updated packages.\n"
     ]
    }
   ],
   "source": [
    "pip install numpy Pillow ripser persim #Check to make sure the required libraries are installed"
   ]
  },
  {
   "cell_type": "code",
   "execution_count": 1,
   "id": "2baabb06",
   "metadata": {
    "collapsed": true
   },
   "outputs": [
    {
     "ename": "KeyboardInterrupt",
     "evalue": "",
     "output_type": "error",
     "traceback": [
      "\u001b[0;31m---------------------------------------------------------------------------\u001b[0m",
      "\u001b[0;31mKeyboardInterrupt\u001b[0m                         Traceback (most recent call last)",
      "Cell \u001b[0;32mIn[1], line 90\u001b[0m\n\u001b[1;32m     87\u001b[0m     output_folder_diagrams \u001b[38;5;241m=\u001b[39m \u001b[38;5;124m\"\u001b[39m\u001b[38;5;124m/Users/maxbenson/Desktop/Persistence_Graphs\u001b[39m\u001b[38;5;124m\"\u001b[39m\n\u001b[1;32m     89\u001b[0m \u001b[38;5;66;03m#Complete all tasks\u001b[39;00m\n\u001b[0;32m---> 90\u001b[0m     resize_and_convert_to_binary(input_folder_raw, output_folder_resized,output_folder_bw)\n\u001b[1;32m     92\u001b[0m     extract_coordinates_and_generate_diagram(output_folder_bw, output_folder_diagrams)\n",
      "Cell \u001b[0;32mIn[1], line 28\u001b[0m, in \u001b[0;36mresize_and_convert_to_binary\u001b[0;34m(input_folder, output_folder_resized, output_folder_bw)\u001b[0m\n\u001b[1;32m     25\u001b[0m                 img \u001b[38;5;241m=\u001b[39m Image\u001b[38;5;241m.\u001b[39mopen(image_path)\n\u001b[1;32m     27\u001b[0m \u001b[38;5;66;03m#Resize to 450 x 450\u001b[39;00m\n\u001b[0;32m---> 28\u001b[0m                 resized_img \u001b[38;5;241m=\u001b[39m img\u001b[38;5;241m.\u001b[39mresize((\u001b[38;5;241m450\u001b[39m,\u001b[38;5;241m450\u001b[39m))\n\u001b[1;32m     29\u001b[0m                 output_path_resized \u001b[38;5;241m=\u001b[39m os\u001b[38;5;241m.\u001b[39mpath\u001b[38;5;241m.\u001b[39mjoin(output_folder_resized, filename)\n\u001b[1;32m     30\u001b[0m                 resized_img\u001b[38;5;241m.\u001b[39msave(output_path_resized)\n",
      "File \u001b[0;32m~/anaconda3/lib/python3.11/site-packages/PIL/Image.py:2156\u001b[0m, in \u001b[0;36mImage.resize\u001b[0;34m(self, size, resample, box, reducing_gap)\u001b[0m\n\u001b[1;32m   2152\u001b[0m     \u001b[38;5;28;01mraise\u001b[39;00m \u001b[38;5;167;01mValueError\u001b[39;00m(msg)\n\u001b[1;32m   2154\u001b[0m size \u001b[38;5;241m=\u001b[39m \u001b[38;5;28mtuple\u001b[39m(size)\n\u001b[0;32m-> 2156\u001b[0m \u001b[38;5;28mself\u001b[39m\u001b[38;5;241m.\u001b[39mload()\n\u001b[1;32m   2157\u001b[0m \u001b[38;5;28;01mif\u001b[39;00m box \u001b[38;5;129;01mis\u001b[39;00m \u001b[38;5;28;01mNone\u001b[39;00m:\n\u001b[1;32m   2158\u001b[0m     box \u001b[38;5;241m=\u001b[39m (\u001b[38;5;241m0\u001b[39m, \u001b[38;5;241m0\u001b[39m) \u001b[38;5;241m+\u001b[39m \u001b[38;5;28mself\u001b[39m\u001b[38;5;241m.\u001b[39msize\n",
      "File \u001b[0;32m~/anaconda3/lib/python3.11/site-packages/PIL/ImageFile.py:269\u001b[0m, in \u001b[0;36mImageFile.load\u001b[0;34m(self)\u001b[0m\n\u001b[1;32m    266\u001b[0m         \u001b[38;5;28;01mraise\u001b[39;00m \u001b[38;5;167;01mOSError\u001b[39;00m(msg)\n\u001b[1;32m    268\u001b[0m b \u001b[38;5;241m=\u001b[39m b \u001b[38;5;241m+\u001b[39m s\n\u001b[0;32m--> 269\u001b[0m n, err_code \u001b[38;5;241m=\u001b[39m decoder\u001b[38;5;241m.\u001b[39mdecode(b)\n\u001b[1;32m    270\u001b[0m \u001b[38;5;28;01mif\u001b[39;00m n \u001b[38;5;241m<\u001b[39m \u001b[38;5;241m0\u001b[39m:\n\u001b[1;32m    271\u001b[0m     \u001b[38;5;28;01mbreak\u001b[39;00m\n",
      "\u001b[0;31mKeyboardInterrupt\u001b[0m: "
     ]
    }
   ],
   "source": [
    "#Import all libraries required to execute the script\n",
    "import os \n",
    "import csv\n",
    "import numpy as np \n",
    "from PIL import Image\n",
    "from ripser import ripser\n",
    "import matplotlib.pyplot as plt  \n",
    "\n",
    "#First function to pre-process images (resize them to dimensions 450 x 450 and make binary)\n",
    "def resize_and_convert_to_binary(input_folder, output_folder_resized, output_folder_bw):\n",
    "#Creates the directories\n",
    "    if not os.path.exists(output_folder_resized):\n",
    "        os.makedirs(output_folder_resized)\n",
    "    if not os.path.exists(output_folder_bw):\n",
    "        os.makedirs(output_folder_bw)  \n",
    "\n",
    "#Loop through the folder for each image\n",
    "    for filename in os.listdir(input_folder):\n",
    "#Check each file is saved as .jpg or .jpeg file\n",
    "        if filename.lower().endswith(('.jpg','.jpeg')):\n",
    "\n",
    "            try:\n",
    "#Opens each image\n",
    "                image_path = os.path.join(input_folder, filename)\n",
    "                img = Image.open(image_path)\n",
    "        \n",
    "#Resize to 450 x 450\n",
    "                resized_img = img.resize((450,450))\n",
    "                output_path_resized = os.path.join(output_folder_resized, filename)\n",
    "                resized_img.save(output_path_resized)\n",
    "            \n",
    "#make Binary\n",
    "                binary_img = resized_img.convert('1')\n",
    "                output_path_bw = os.path.join(output_folder_bw,f\"{os.path.splitext(filename)[0]}_bw.jpg\")\n",
    "                binary_img.save(output_path_bw)\n",
    "            \n",
    "#error message if any files fail to process\n",
    "            except Exception as e:\n",
    "                print(f\"Error processing {filename}:{e}\")\n",
    "\n",
    "#Function to get coordinates and create persistence graphs            \n",
    "def extract_coordinates_and_generate_diagram(input_folder, output_folder_diagrams,max_coordinates=10000):\n",
    "    if not os.path.exists(output_folder_diagrams):\n",
    "        os.makedirs(output_folder_diagrams)\n",
    "\n",
    "#Loop through each file and check if they are binary\n",
    "    for filename in os.listdir(input_folder):\n",
    "        if filename.lower().endswith('_bw.jpg'):\n",
    "        \n",
    "#Convert images into arrays using numpy\n",
    "            try:\n",
    "                image_path = os.path.join(input_folder, filename)\n",
    "                binary_img = np.array(Image.open(image_path))\n",
    "\n",
    "#Get the coordinates of black pixels\n",
    "                coordinates = np.column_stack(np.where(binary_img == 0))[:max_coordinates]\n",
    "\n",
    "#Convert the coordinates into a numpy array\n",
    "                data = np.array(coordinates)\n",
    "\n",
    "#Compute persistence graphs and save them\n",
    "                diagrams = ripser(data)['dgms']\n",
    "                plot_persistence_diagrams(diagrams, output_folder_diagrams, filename)\n",
    "\n",
    "#Error message if failure\n",
    "            except Exception as e:\n",
    "                print(f\"Error processing{filename}:{e}\")\n",
    "\n",
    "#Function to create the persistence graphs. Loops through each image and plots the graph then saves them\n",
    "def plot_persistence_diagrams(diagrams, output_folder, filename):\n",
    "    for i, diagram in enumerate(diagrams):\n",
    "        plt.figure(figsize=(6,6))\n",
    "        plt.title(f\"Persistence Diagram {i+1} for {filename}\")\n",
    "        plt.scatter(diagram[:,0], diagram[:,1], c='red', s=50)\n",
    "        plt.plot([0, max(diagram[:,1])], [0, max(diagram[:, 1])], linestyle='--',color='black')\n",
    "        plt.xlabel(\"Birth\")\n",
    "        plt.ylabel(\"Death\")\n",
    "        plt.savefig(os.path.join(output_folder,\n",
    "f\"{os.path.splitext(filename)[0]}_diagram_{i+1}.png\"))\n",
    "        plt.close()\n",
    "\n",
    "#Final execution of all segments, check all folders exist\n",
    "if __name__== \"__main__\":\n",
    "    input_folder_raw = \"/Users/maxbenson/Desktop/Raw Images\"\n",
    "    output_folder_resized = \"/Users/maxbenson/Desktop/Reframed_Images\"\n",
    "    output_folder_bw = \"/Users/maxbenson/Desktop/Binary_Images\"\n",
    "    output_folder_diagrams = \"/Users/maxbenson/Desktop/Persistence_Graphs\"\n",
    "\n",
    "#Complete all tasks\n",
    "    resize_and_convert_to_binary(input_folder_raw, output_folder_resized,output_folder_bw)\n",
    "\n",
    "    extract_coordinates_and_generate_diagram(output_folder_bw, output_folder_diagrams)"
   ]
  }
 ],
 "metadata": {
  "kernelspec": {
   "display_name": "Python 3 (ipykernel)",
   "language": "python",
   "name": "python3"
  },
  "language_info": {
   "codemirror_mode": {
    "name": "ipython",
    "version": 3
   },
   "file_extension": ".py",
   "mimetype": "text/x-python",
   "name": "python",
   "nbconvert_exporter": "python",
   "pygments_lexer": "ipython3",
   "version": "3.11.5"
  }
 },
 "nbformat": 4,
 "nbformat_minor": 5
}
